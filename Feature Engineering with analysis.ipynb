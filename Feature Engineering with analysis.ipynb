{
 "cells": [
  {
   "cell_type": "code",
   "execution_count": null,
   "id": "9a8adc1c",
   "metadata": {},
   "outputs": [],
   "source": [
    "TASK-1"
   ]
  },
  {
   "cell_type": "code",
   "execution_count": 1,
   "id": "673f97a4",
   "metadata": {},
   "outputs": [
    {
     "name": "stdout",
     "output_type": "stream",
     "text": [
      "Percentage of restaurants that offer table booking: 12.12%\n",
      "Percentage of restaurants that offer online delivery: 25.66%\n"
     ]
    }
   ],
   "source": [
    "#Determine the percentage of restaurants that offer table booking and online delivery.\n",
    "import pandas as pd\n",
    "\n",
    "file_path = \"D:\\Dataset.csv\"\n",
    "df = pd.read_csv(file_path)\n",
    "table_booking_percentage = (df['Has Table booking'].str.lower() == 'yes').mean() * 100\n",
    "online_delivery_percentage = (df['Has Online delivery'].str.lower() == 'yes').mean() * 100\n",
    "\n",
    "print(f\"Percentage of restaurants that offer table booking: {table_booking_percentage:.2f}%\")\n",
    "print(f\"Percentage of restaurants that offer online delivery: {online_delivery_percentage:.2f}%\")\n"
   ]
  },
  {
   "cell_type": "code",
   "execution_count": 2,
   "id": "c2cfbfce",
   "metadata": {},
   "outputs": [
    {
     "name": "stdout",
     "output_type": "stream",
     "text": [
      "Average rating of restaurants with table booking: 3.44\n",
      "Average rating of restaurants without table booking: 2.56\n"
     ]
    }
   ],
   "source": [
    "#Compare the average ratings of restaurants with and without table booking\n",
    "df['Rating'] = pd.to_numeric(df['Aggregate rating'], errors='coerce')\n",
    "average_rating_with_table_booking = df[df['Has Table booking'].str.lower() == 'yes']['Aggregate rating'].mean()\n",
    "average_rating_without_table_booking = df[df['Has Table booking'].str.lower() == 'no']['Aggregate rating'].mean()\n",
    "\n",
    "print(f\"Average rating of restaurants with table booking: {average_rating_with_table_booking:.2f}\")\n",
    "print(f\"Average rating of restaurants without table booking: {average_rating_without_table_booking:.2f}\")"
   ]
  },
  {
   "cell_type": "code",
   "execution_count": 3,
   "id": "57eacd90",
   "metadata": {},
   "outputs": [
    {
     "name": "stdout",
     "output_type": "stream",
     "text": [
      "Percentage of restaurants that offer online delivery by price range:\n",
      "Price range\n",
      "1    15.774077\n",
      "2    41.310633\n",
      "3    29.190341\n",
      "4     9.044369\n",
      "Name: Has Online delivery, dtype: float64\n"
     ]
    },
    {
     "data": {
      "image/png": "[encoded data removed]",
      "text/plain": [
       "<Figure size 640x480 with 1 Axes>"
      ]
     },
     "metadata": {},
     "output_type": "display_data"
    }
   ],
   "source": [
    "# Analyze the availability of online delivery among restaurants\n",
    "import matplotlib.pyplot as plt\n",
    "online_delivery_by_price_range = df.groupby('Price range')['Has Online delivery'].apply(lambda x: (x.str.lower() == 'yes').mean() * 100)\n",
    "\n",
    "print(\"Percentage of restaurants that offer online delivery by price range:\")\n",
    "print(online_delivery_by_price_range)\n",
    "online_delivery_by_price_range.plot(kind='bar', color='skyblue')\n",
    "plt.title('Percentage of Restaurants Offering Online Delivery by Price Range')\n",
    "plt.xlabel('Price Range')\n",
    "plt.ylabel('Percentage')\n",
    "plt.xticks(rotation=0)\n",
    "plt.show()"
   ]
  },
  {
   "cell_type": "code",
   "execution_count": null,
   "id": "06cbdb1f",
   "metadata": {},
   "outputs": [],
   "source": [
    "TASK-2"
   ]
  },
  {
   "cell_type": "code",
   "execution_count": 4,
   "id": "295a805b",
   "metadata": {},
   "outputs": [
    {
     "name": "stdout",
     "output_type": "stream",
     "text": [
      "The most common price range is: 1\n"
     ]
    }
   ],
   "source": [
    "import pandas as pd\n",
    "\n",
    "file_path = \"D:\\Dataset.csv\"\n",
    "df = pd.read_csv(file_path)\n",
    "most_common_price_range = df['Price range'].mode()[0]\n",
    "print(f\"The most common price range is: {most_common_price_range}\")"
   ]
  },
  {
   "cell_type": "code",
   "execution_count": 5,
   "id": "a5dc5a78",
   "metadata": {},
   "outputs": [
    {
     "name": "stdout",
     "output_type": "stream",
     "text": [
      "Average rating for each price range:\n",
      "Price range\n",
      "1    1.999887\n",
      "2    2.941054\n",
      "3    3.683381\n",
      "4    3.817918\n",
      "Name: Avg_Rating, dtype: float64\n"
     ]
    }
   ],
   "source": [
    "#Calculate the average rating \n",
    "df['Avg_Rating'] = pd.to_numeric(df['Aggregate rating'], errors='coerce')\n",
    "\n",
    "average_rating_by_price_range = df.groupby('Price range')['Avg_Rating'].mean()\n",
    "print(\"Average rating for each price range:\")\n",
    "print(average_rating_by_price_range)"
   ]
  },
  {
   "cell_type": "code",
   "execution_count": 6,
   "id": "69004bd8",
   "metadata": {},
   "outputs": [
    {
     "name": "stdout",
     "output_type": "stream",
     "text": [
      "The color that represents the highest average rating is: Green\n"
     ]
    }
   ],
   "source": [
    "average_rating_with_color = df.groupby('Price range').agg({'Avg_Rating': 'mean', 'Rating color': 'first'}).reset_index()\n",
    "highest_average_rating = average_rating_with_color.loc[average_rating_with_color['Avg_Rating'].idxmax()]\n",
    "highest_average_rating_color = highest_average_rating['Rating color']\n",
    "print(f\"The color that represents the highest average rating is: {highest_average_rating_color}\")"
   ]
  },
  {
   "cell_type": "code",
   "execution_count": null,
   "id": "466c070f",
   "metadata": {},
   "outputs": [],
   "source": [
    "TASK-3"
   ]
  },
  {
   "cell_type": "code",
   "execution_count": 7,
   "id": "5f90d238",
   "metadata": {},
   "outputs": [
    {
     "data": {
      "text/html": [
       "<div>\n",
       "<style scoped>\n",
       "    .dataframe tbody tr th:only-of-type {\n",
       "        vertical-align: middle;\n",
       "    }\n",
       "\n",
       "    .dataframe tbody tr th {\n",
       "        vertical-align: top;\n",
       "    }\n",
       "\n",
       "    .dataframe thead th {\n",
       "        text-align: right;\n",
       "    }\n",
       "</style>\n",
       "<table border=\"1\" class=\"dataframe\">\n",
       "  <thead>\n",
       "    <tr style=\"text-align: right;\">\n",
       "      <th></th>\n",
       "      <th>Restaurant Name</th>\n",
       "      <th>Restaurant Name Length</th>\n",
       "      <th>Address</th>\n",
       "      <th>Address Length</th>\n",
       "    </tr>\n",
       "  </thead>\n",
       "  <tbody>\n",
       "    <tr>\n",
       "      <th>0</th>\n",
       "      <td>Le Petit Souffle</td>\n",
       "      <td>16</td>\n",
       "      <td>Third Floor, Century City Mall, Kalayaan Avenu...</td>\n",
       "      <td>71</td>\n",
       "    </tr>\n",
       "    <tr>\n",
       "      <th>1</th>\n",
       "      <td>Izakaya Kikufuji</td>\n",
       "      <td>16</td>\n",
       "      <td>Little Tokyo, 2277 Chino Roces Avenue, Legaspi...</td>\n",
       "      <td>67</td>\n",
       "    </tr>\n",
       "    <tr>\n",
       "      <th>2</th>\n",
       "      <td>Heat - Edsa Shangri-La</td>\n",
       "      <td>22</td>\n",
       "      <td>Edsa Shangri-La, 1 Garden Way, Ortigas, Mandal...</td>\n",
       "      <td>56</td>\n",
       "    </tr>\n",
       "    <tr>\n",
       "      <th>3</th>\n",
       "      <td>Ooma</td>\n",
       "      <td>4</td>\n",
       "      <td>Third Floor, Mega Fashion Hall, SM Megamall, O...</td>\n",
       "      <td>70</td>\n",
       "    </tr>\n",
       "    <tr>\n",
       "      <th>4</th>\n",
       "      <td>Sambo Kojin</td>\n",
       "      <td>11</td>\n",
       "      <td>Third Floor, Mega Atrium, SM Megamall, Ortigas...</td>\n",
       "      <td>64</td>\n",
       "    </tr>\n",
       "  </tbody>\n",
       "</table>\n",
       "</div>"
      ],
      "text/plain": [
       "          Restaurant Name  Restaurant Name Length  \\\n",
       "0        Le Petit Souffle                      16   \n",
       "1        Izakaya Kikufuji                      16   \n",
       "2  Heat - Edsa Shangri-La                      22   \n",
       "3                    Ooma                       4   \n",
       "4             Sambo Kojin                      11   \n",
       "\n",
       "                                             Address  Address Length  \n",
       "0  Third Floor, Century City Mall, Kalayaan Avenu...              71  \n",
       "1  Little Tokyo, 2277 Chino Roces Avenue, Legaspi...              67  \n",
       "2  Edsa Shangri-La, 1 Garden Way, Ortigas, Mandal...              56  \n",
       "3  Third Floor, Mega Fashion Hall, SM Megamall, O...              70  \n",
       "4  Third Floor, Mega Atrium, SM Megamall, Ortigas...              64  "
      ]
     },
     "execution_count": 7,
     "metadata": {},
     "output_type": "execute_result"
    }
   ],
   "source": [
    "import pandas as pd\n",
    "\n",
    "file_path = \"D:\\Dataset.csv\"\n",
    "df = pd.read_csv(file_path)\n",
    "df['Restaurant Name Length'] = df['Restaurant Name'].apply(len)\n",
    "\n",
    "df['Address Length'] = df['Address'].apply(len)\n",
    "df[['Restaurant Name', 'Restaurant Name Length', 'Address', 'Address Length']].head()"
   ]
  },
  {
   "cell_type": "code",
   "execution_count": 8,
   "id": "5c6f4576",
   "metadata": {},
   "outputs": [
    {
     "data": {
      "text/html": [
       "<div>\n",
       "<style scoped>\n",
       "    .dataframe tbody tr th:only-of-type {\n",
       "        vertical-align: middle;\n",
       "    }\n",
       "\n",
       "    .dataframe tbody tr th {\n",
       "        vertical-align: top;\n",
       "    }\n",
       "\n",
       "    .dataframe thead th {\n",
       "        text-align: right;\n",
       "    }\n",
       "</style>\n",
       "<table border=\"1\" class=\"dataframe\">\n",
       "  <thead>\n",
       "    <tr style=\"text-align: right;\">\n",
       "      <th></th>\n",
       "      <th>Has Table booking</th>\n",
       "      <th>Has Table Booking</th>\n",
       "      <th>Has Online delivery</th>\n",
       "      <th>Has Online Delivery</th>\n",
       "    </tr>\n",
       "  </thead>\n",
       "  <tbody>\n",
       "    <tr>\n",
       "      <th>0</th>\n",
       "      <td>Yes</td>\n",
       "      <td>1</td>\n",
       "      <td>No</td>\n",
       "      <td>0</td>\n",
       "    </tr>\n",
       "    <tr>\n",
       "      <th>1</th>\n",
       "      <td>Yes</td>\n",
       "      <td>1</td>\n",
       "      <td>No</td>\n",
       "      <td>0</td>\n",
       "    </tr>\n",
       "    <tr>\n",
       "      <th>2</th>\n",
       "      <td>Yes</td>\n",
       "      <td>1</td>\n",
       "      <td>No</td>\n",
       "      <td>0</td>\n",
       "    </tr>\n",
       "    <tr>\n",
       "      <th>3</th>\n",
       "      <td>No</td>\n",
       "      <td>0</td>\n",
       "      <td>No</td>\n",
       "      <td>0</td>\n",
       "    </tr>\n",
       "    <tr>\n",
       "      <th>4</th>\n",
       "      <td>Yes</td>\n",
       "      <td>1</td>\n",
       "      <td>No</td>\n",
       "      <td>0</td>\n",
       "    </tr>\n",
       "  </tbody>\n",
       "</table>\n",
       "</div>"
      ],
      "text/plain": [
       "  Has Table booking  Has Table Booking Has Online delivery  \\\n",
       "0               Yes                  1                  No   \n",
       "1               Yes                  1                  No   \n",
       "2               Yes                  1                  No   \n",
       "3                No                  0                  No   \n",
       "4               Yes                  1                  No   \n",
       "\n",
       "   Has Online Delivery  \n",
       "0                    0  \n",
       "1                    0  \n",
       "2                    0  \n",
       "3                    0  \n",
       "4                    0  "
      ]
     },
     "execution_count": 8,
     "metadata": {},
     "output_type": "execute_result"
    }
   ],
   "source": [
    "import pandas as pd\n",
    "\n",
    "file_path = \"D:\\Dataset.csv\"\n",
    "df = pd.read_csv(file_path)\n",
    "df['Has Table Booking'] = df['Has Table booking'].apply(lambda x: 1 if x.lower() == 'yes' else 0)\n",
    "df['Has Online Delivery'] = df['Has Online delivery'].apply(lambda x: 1 if x.lower() == 'yes' else 0)\n",
    "df[['Has Table booking', 'Has Table Booking', 'Has Online delivery', 'Has Online Delivery']].head()"
   ]
  },
  {
   "cell_type": "code",
   "execution_count": null,
   "id": "a7844572",
   "metadata": {},
   "outputs": [],
   "source": []
  }
 ],
 "metadata": {
  "kernelspec": {
   "display_name": "Python 3 (ipykernel)",
   "language": "python",
   "name": "python3"
  },
  "language_info": {
   "codemirror_mode": {
    "name": "ipython",
    "version": 3
   },
   "file_extension": ".py",
   "mimetype": "text/x-python",
   "name": "python",
   "nbconvert_exporter": "python",
   "pygments_lexer": "ipython3",
   "version": "3.11.5"
  }
 },
 "nbformat": 4,
 "nbformat_minor": 5
}
